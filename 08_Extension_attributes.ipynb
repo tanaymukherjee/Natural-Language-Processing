{
  "nbformat": 4,
  "nbformat_minor": 0,
  "metadata": {
    "colab": {
      "name": "08. Extension attributes.ipynb",
      "provenance": [],
      "collapsed_sections": [],
      "authorship_tag": "ABX9TyO8+z5ZveY2dYYM6hT7QGMG",
      "include_colab_link": true
    },
    "kernelspec": {
      "name": "python3",
      "display_name": "Python 3"
    }
  },
  "cells": [
    {
      "cell_type": "markdown",
      "metadata": {
        "id": "view-in-github",
        "colab_type": "text"
      },
      "source": [
        "<a href=\"https://colab.research.google.com/github/tanaymukherjee/Natural-Language-Processing/blob/master/08_Extension_attributes.ipynb\" target=\"_parent\"><img src=\"https://colab.research.google.com/assets/colab-badge.svg\" alt=\"Open In Colab\"/></a>"
      ]
    },
    {
      "cell_type": "markdown",
      "metadata": {
        "id": "4GgHjE03DvB2",
        "colab_type": "text"
      },
      "source": [
        "# Knowing Extension Attributes"
      ]
    },
    {
      "cell_type": "markdown",
      "metadata": {
        "id": "eFsZDCyrDu6V",
        "colab_type": "text"
      },
      "source": [
        "## Setting Attributes - I"
      ]
    },
    {
      "cell_type": "code",
      "metadata": {
        "id": "Ij8_FFdKBkTm",
        "colab_type": "code",
        "colab": {}
      },
      "source": [
        "import spacy"
      ],
      "execution_count": 1,
      "outputs": []
    },
    {
      "cell_type": "code",
      "metadata": {
        "id": "EfaLnRLXBhl2",
        "colab_type": "code",
        "colab": {}
      },
      "source": [
        "# Create an NLP object\n",
        "from spacy.lang.en import English\n",
        "nlp = English()"
      ],
      "execution_count": 2,
      "outputs": []
    },
    {
      "cell_type": "code",
      "metadata": {
        "id": "RISQ1YA3Bl_W",
        "colab_type": "code",
        "colab": {}
      },
      "source": [
        "# Import the Doc class\n",
        "from spacy.tokens import Doc, Span, Token"
      ],
      "execution_count": 3,
      "outputs": []
    },
    {
      "cell_type": "code",
      "metadata": {
        "id": "SedZICAICc3-",
        "colab_type": "code",
        "colab": {
          "base_uri": "https://localhost:8080/",
          "height": 442
        },
        "outputId": "4f32e691-54d3-4e98-9d22-03740fa49b40"
      },
      "source": [
        "!python -m spacy download en_core_web_sm"
      ],
      "execution_count": 4,
      "outputs": [
        {
          "output_type": "stream",
          "text": [
            "Requirement already satisfied: en_core_web_sm==2.2.5 from https://github.com/explosion/spacy-models/releases/download/en_core_web_sm-2.2.5/en_core_web_sm-2.2.5.tar.gz#egg=en_core_web_sm==2.2.5 in /usr/local/lib/python3.6/dist-packages (2.2.5)\n",
            "Requirement already satisfied: spacy>=2.2.2 in /usr/local/lib/python3.6/dist-packages (from en_core_web_sm==2.2.5) (2.2.4)\n",
            "Requirement already satisfied: requests<3.0.0,>=2.13.0 in /usr/local/lib/python3.6/dist-packages (from spacy>=2.2.2->en_core_web_sm==2.2.5) (2.23.0)\n",
            "Requirement already satisfied: setuptools in /usr/local/lib/python3.6/dist-packages (from spacy>=2.2.2->en_core_web_sm==2.2.5) (49.1.0)\n",
            "Requirement already satisfied: tqdm<5.0.0,>=4.38.0 in /usr/local/lib/python3.6/dist-packages (from spacy>=2.2.2->en_core_web_sm==2.2.5) (4.41.1)\n",
            "Requirement already satisfied: catalogue<1.1.0,>=0.0.7 in /usr/local/lib/python3.6/dist-packages (from spacy>=2.2.2->en_core_web_sm==2.2.5) (1.0.0)\n",
            "Requirement already satisfied: preshed<3.1.0,>=3.0.2 in /usr/local/lib/python3.6/dist-packages (from spacy>=2.2.2->en_core_web_sm==2.2.5) (3.0.2)\n",
            "Requirement already satisfied: thinc==7.4.0 in /usr/local/lib/python3.6/dist-packages (from spacy>=2.2.2->en_core_web_sm==2.2.5) (7.4.0)\n",
            "Requirement already satisfied: numpy>=1.15.0 in /usr/local/lib/python3.6/dist-packages (from spacy>=2.2.2->en_core_web_sm==2.2.5) (1.18.5)\n",
            "Requirement already satisfied: plac<1.2.0,>=0.9.6 in /usr/local/lib/python3.6/dist-packages (from spacy>=2.2.2->en_core_web_sm==2.2.5) (1.1.3)\n",
            "Requirement already satisfied: murmurhash<1.1.0,>=0.28.0 in /usr/local/lib/python3.6/dist-packages (from spacy>=2.2.2->en_core_web_sm==2.2.5) (1.0.2)\n",
            "Requirement already satisfied: cymem<2.1.0,>=2.0.2 in /usr/local/lib/python3.6/dist-packages (from spacy>=2.2.2->en_core_web_sm==2.2.5) (2.0.3)\n",
            "Requirement already satisfied: blis<0.5.0,>=0.4.0 in /usr/local/lib/python3.6/dist-packages (from spacy>=2.2.2->en_core_web_sm==2.2.5) (0.4.1)\n",
            "Requirement already satisfied: wasabi<1.1.0,>=0.4.0 in /usr/local/lib/python3.6/dist-packages (from spacy>=2.2.2->en_core_web_sm==2.2.5) (0.7.0)\n",
            "Requirement already satisfied: srsly<1.1.0,>=1.0.2 in /usr/local/lib/python3.6/dist-packages (from spacy>=2.2.2->en_core_web_sm==2.2.5) (1.0.2)\n",
            "Requirement already satisfied: chardet<4,>=3.0.2 in /usr/local/lib/python3.6/dist-packages (from requests<3.0.0,>=2.13.0->spacy>=2.2.2->en_core_web_sm==2.2.5) (3.0.4)\n",
            "Requirement already satisfied: urllib3!=1.25.0,!=1.25.1,<1.26,>=1.21.1 in /usr/local/lib/python3.6/dist-packages (from requests<3.0.0,>=2.13.0->spacy>=2.2.2->en_core_web_sm==2.2.5) (1.24.3)\n",
            "Requirement already satisfied: idna<3,>=2.5 in /usr/local/lib/python3.6/dist-packages (from requests<3.0.0,>=2.13.0->spacy>=2.2.2->en_core_web_sm==2.2.5) (2.10)\n",
            "Requirement already satisfied: certifi>=2017.4.17 in /usr/local/lib/python3.6/dist-packages (from requests<3.0.0,>=2.13.0->spacy>=2.2.2->en_core_web_sm==2.2.5) (2020.6.20)\n",
            "Requirement already satisfied: importlib-metadata>=0.20; python_version < \"3.8\" in /usr/local/lib/python3.6/dist-packages (from catalogue<1.1.0,>=0.0.7->spacy>=2.2.2->en_core_web_sm==2.2.5) (1.7.0)\n",
            "Requirement already satisfied: zipp>=0.5 in /usr/local/lib/python3.6/dist-packages (from importlib-metadata>=0.20; python_version < \"3.8\"->catalogue<1.1.0,>=0.0.7->spacy>=2.2.2->en_core_web_sm==2.2.5) (3.1.0)\n",
            "\u001b[38;5;2m✔ Download and installation successful\u001b[0m\n",
            "You can now load the model via spacy.load('en_core_web_sm')\n"
          ],
          "name": "stdout"
        }
      ]
    },
    {
      "cell_type": "code",
      "metadata": {
        "id": "dq5cqbb9Bf_r",
        "colab_type": "code",
        "colab": {
          "base_uri": "https://localhost:8080/",
          "height": 35
        },
        "outputId": "be76a97e-1be7-43f7-aca7-16ed1ff36d18"
      },
      "source": [
        "# Register the Token extension attribute 'is_country' with the default value False\n",
        "Token.set_extension('is_country', default=False, force=True)\n",
        "\n",
        "# Process the text and set the is_country attribute to True for the token \"Spain\"\n",
        "doc = nlp(\"I live in India.\")\n",
        "doc[3]._.is_country = True\n",
        "\n",
        "# Print the token text and the is_country attribute for all tokens\n",
        "print([(token.text, token._.is_country) for token in doc])"
      ],
      "execution_count": 5,
      "outputs": [
        {
          "output_type": "stream",
          "text": [
            "[('I', False), ('live', False), ('in', False), ('India', True), ('.', False)]\n"
          ],
          "name": "stdout"
        }
      ]
    },
    {
      "cell_type": "markdown",
      "metadata": {
        "id": "71Fn3pMvDMBg",
        "colab_type": "text"
      },
      "source": [
        "**NOTE:** Remember that if you run your code more than once, you might see an error message that the extension already exists. That's because you will re-run your code in the same session. To solve this, you can set force=True on set_extension, or reload to start a new Python session. "
      ]
    },
    {
      "cell_type": "code",
      "metadata": {
        "id": "rWsravyqDW3S",
        "colab_type": "code",
        "colab": {
          "base_uri": "https://localhost:8080/",
          "height": 175
        },
        "outputId": "7db2ab52-fcda-41c3-aa03-68697dc2c287"
      },
      "source": [
        "# Define the getter function that takes a token and returns its reversed text\n",
        "def get_reversed(token):\n",
        "    return token.text[::-1]\n",
        "  \n",
        "# Register the Token property extension 'reversed' with the getter get_reversed\n",
        "Token.set_extension('reversed', getter=get_reversed)\n",
        "\n",
        "# Process the text and print the reversed attribute for each token\n",
        "doc = nlp(\"All generalizations are false, including this one.\")\n",
        "for token in doc:\n",
        "    print('reversed:', token._.reversed)"
      ],
      "execution_count": 6,
      "outputs": [
        {
          "output_type": "stream",
          "text": [
            "reversed: llA\n",
            "reversed: snoitazilareneg\n",
            "reversed: era\n",
            "reversed: eslaf\n",
            "reversed: ,\n",
            "reversed: gnidulcni\n",
            "reversed: siht\n",
            "reversed: eno\n",
            "reversed: .\n"
          ],
          "name": "stdout"
        }
      ]
    },
    {
      "cell_type": "markdown",
      "metadata": {
        "id": "eaxQ8oL7D8-h",
        "colab_type": "text"
      },
      "source": [
        "## Setting Attributes - II"
      ]
    },
    {
      "cell_type": "markdown",
      "metadata": {
        "id": "IQnOCpP4EIZ8",
        "colab_type": "text"
      },
      "source": [
        "Let's try setting some more complex attributes using getters and method extensions."
      ]
    },
    {
      "cell_type": "markdown",
      "metadata": {
        "id": "ehEKj-A_EZSl",
        "colab_type": "text"
      },
      "source": [
        "Use Doc.set_extension to register 'has_number' (getter get_has_number) and print its value."
      ]
    },
    {
      "cell_type": "code",
      "metadata": {
        "id": "CarpmVCqD-Hb",
        "colab_type": "code",
        "colab": {
          "base_uri": "https://localhost:8080/",
          "height": 35
        },
        "outputId": "bb88d7f5-101a-4951-c6d7-103bdb048e32"
      },
      "source": [
        "# Define the getter function\n",
        "def get_has_number(doc):\n",
        "    # Return if any of the tokens in the doc return True for token.like_num\n",
        "    return any(token.like_num for token in doc)\n",
        "\n",
        "# Register the Doc property extension 'has_number' with the getter get_has_number\n",
        "Doc.set_extension('has_number', getter=get_has_number)\n",
        "\n",
        "# Process the text and check the custom has_number attribute \n",
        "doc = nlp(\"The museum closed for five years in 2012.\")\n",
        "print('has_number:', doc._.has_number)"
      ],
      "execution_count": 7,
      "outputs": [
        {
          "output_type": "stream",
          "text": [
            "has_number: True\n"
          ],
          "name": "stdout"
        }
      ]
    },
    {
      "cell_type": "markdown",
      "metadata": {
        "id": "6jcsfMOsEWpL",
        "colab_type": "text"
      },
      "source": [
        "Use Span.set_extension to register 'to_html' (method to_html)."
      ]
    },
    {
      "cell_type": "code",
      "metadata": {
        "id": "__1QQPCdEU0U",
        "colab_type": "code",
        "colab": {
          "base_uri": "https://localhost:8080/",
          "height": 35
        },
        "outputId": "a041568c-67a1-45c5-8f96-cfe3d5d66736"
      },
      "source": [
        "# Define the method\n",
        "def to_html(span, tag):\n",
        "    # Wrap the span text in a HTML tag and return it\n",
        "    return '<{tag}>{text}</{tag}>'.format(tag=tag, text=span.text)\n",
        "\n",
        "# Register the Span property extension 'to_html' with the method to_html\n",
        "Span.set_extension('to_html', method=to_html)\n",
        "\n",
        "# Process the text and call the to_html method on the span with the tag name 'strong'\n",
        "doc = nlp(\"Hello world, this is a sentence.\")\n",
        "span = doc[0:2]\n",
        "print(span._.to_html('strong'))"
      ],
      "execution_count": 8,
      "outputs": [
        {
          "output_type": "stream",
          "text": [
            "<strong>Hello world</strong>\n"
          ],
          "name": "stdout"
        }
      ]
    },
    {
      "cell_type": "markdown",
      "metadata": {
        "id": "bC72T8FoEf2G",
        "colab_type": "text"
      },
      "source": [
        "## Entities and extensions"
      ]
    },
    {
      "cell_type": "markdown",
      "metadata": {
        "id": "jw4cNZrwEk-Q",
        "colab_type": "text"
      },
      "source": [
        "In this exercise, you'll combine custom extension attributes with the model's predictions and create an attribute getter that returns a Wikipedia search URL if the span is a person, organization, or location."
      ]
    },
    {
      "cell_type": "code",
      "metadata": {
        "id": "E-slmYCMFxlR",
        "colab_type": "code",
        "colab": {
          "base_uri": "https://localhost:8080/",
          "height": 35
        },
        "outputId": "a13929ff-d6b4-486b-a53d-2845d9199a7e"
      },
      "source": [
        "# Define the custom component\n",
        "def length_component(doc):\n",
        "    # Get the doc's length\n",
        "    doc_length = len(doc)\n",
        "    print(\"This document is {} tokens long.\".format(doc_length))\n",
        "    # Return the doc\n",
        "    return doc\n",
        "\n",
        "# Load the small English model\n",
        "nlp = spacy.load('en_core_web_sm')\n",
        "\n",
        "# Add the component first in the pipeline and print the pipe names\n",
        "nlp.add_pipe(length_component, first=True)\n",
        "print(nlp.pipe_names)"
      ],
      "execution_count": 9,
      "outputs": [
        {
          "output_type": "stream",
          "text": [
            "['length_component', 'tagger', 'parser', 'ner']\n"
          ],
          "name": "stdout"
        }
      ]
    },
    {
      "cell_type": "markdown",
      "metadata": {
        "id": "AFOvi_5rG0Xa",
        "colab_type": "text"
      },
      "source": [
        "**Example:** Mahatma Gandhi"
      ]
    },
    {
      "cell_type": "code",
      "metadata": {
        "id": "QNgzVu3OFyEB",
        "colab_type": "code",
        "colab": {
          "base_uri": "https://localhost:8080/",
          "height": 35
        },
        "outputId": "9342cf82-5a1c-4907-b42e-ec78095cd7ef"
      },
      "source": [
        "# Load the small English model and Add the component first in the pipeline\n",
        "nlp = spacy.load('en_core_web_sm')\n",
        "nlp.add_pipe(length_component, first=True)\n",
        "\n",
        "# Process a text\n",
        "doc = nlp(\"Gandhi's birthday, 2 October, is commemorated in India as Gandhi Jayanti, a national holiday, and worldwide as the International Day of Nonviolence.\")"
      ],
      "execution_count": 10,
      "outputs": [
        {
          "output_type": "stream",
          "text": [
            "This document is 28 tokens long.\n"
          ],
          "name": "stdout"
        }
      ]
    },
    {
      "cell_type": "code",
      "metadata": {
        "id": "TB51K-HzEnx9",
        "colab_type": "code",
        "colab": {
          "base_uri": "https://localhost:8080/",
          "height": 123
        },
        "outputId": "2206b583-a083-4504-93c7-43d707021e02"
      },
      "source": [
        "def get_wikipedia_url(span):\n",
        "    # Get a Wikipedia URL if the span has one of the labels\n",
        "    if span.label_ in ('PERSON', 'ORG', 'GPE', 'LOCATION'):\n",
        "        entity_text = span.text.replace(' ', '_')\n",
        "        return \"https://en.wikipedia.org/w/index.php?search=\" + entity_text\n",
        "\n",
        "# Set the Span extension wikipedia_url using get getter get_wikipedia_url\n",
        "Span.set_extension('wikipedia_url', getter=get_wikipedia_url, force=True)\n",
        "\n",
        "doc = nlp(\"Gandhi's birthday, 2 October, is commemorated in India as Gandhi Jayanti, a national holiday, and worldwide as the International Day of Nonviolence.\")\n",
        "for ent in doc.ents:\n",
        "    # Print the text and Wikipedia URL of the entity\n",
        "    print(ent.text, ent._.wikipedia_url)"
      ],
      "execution_count": 11,
      "outputs": [
        {
          "output_type": "stream",
          "text": [
            "This document is 28 tokens long.\n",
            "Gandhi https://en.wikipedia.org/w/index.php?search=Gandhi\n",
            "2 October None\n",
            "India https://en.wikipedia.org/w/index.php?search=India\n",
            "Gandhi Jayanti https://en.wikipedia.org/w/index.php?search=Gandhi_Jayanti\n",
            "the International Day of Nonviolence None\n"
          ],
          "name": "stdout"
        }
      ]
    },
    {
      "cell_type": "markdown",
      "metadata": {
        "id": "jnbArkEWG8hD",
        "colab_type": "text"
      },
      "source": [
        "## Components with extensions"
      ]
    },
    {
      "cell_type": "markdown",
      "metadata": {
        "id": "tDaUkrD-HBad",
        "colab_type": "text"
      },
      "source": [
        "Extension attributes are especially powerful if they're combined with custom pipeline components. In this exercise, you'll write a pipeline component that finds country names and a custom extension attribute that returns a country's capital, if available."
      ]
    },
    {
      "cell_type": "code",
      "metadata": {
        "id": "Ls4csf1bG9Od",
        "colab_type": "code",
        "colab": {
          "base_uri": "https://localhost:8080/",
          "height": 35
        },
        "outputId": "32ef219d-d1c2-4c31-a709-8333b9fb2baf"
      },
      "source": [
        "def countries_component(doc):\n",
        "    # Create an entity Span with the label 'GPE' for all matches\n",
        "    doc.ents = [Span(doc, start, end, label='GPE')\n",
        "                for match_id, start, end in matcher(doc)]\n",
        "    return doc\n",
        "\n",
        "# Add the component to the pipeline\n",
        "nlp.add_pipe(countries_component)\n",
        "print(nlp.pipe_names)"
      ],
      "execution_count": 12,
      "outputs": [
        {
          "output_type": "stream",
          "text": [
            "['length_component', 'tagger', 'parser', 'ner', 'countries_component']\n"
          ],
          "name": "stdout"
        }
      ]
    },
    {
      "cell_type": "code",
      "metadata": {
        "id": "TJbJvr3GHJaV",
        "colab_type": "code",
        "colab": {}
      },
      "source": [
        "# Getter that looks up the span text in the dictionary of country capitals\n",
        "get_capital = lambda span: capitals.get(span.text)\n",
        "\n",
        "# Register the Span extension attribute 'capital' with the getter get_capital \n",
        "Span.set_extension('capital', getter=get_capital)"
      ],
      "execution_count": 13,
      "outputs": []
    },
    {
      "cell_type": "code",
      "metadata": {
        "id": "2VzqxbUuJAC3",
        "colab_type": "code",
        "colab": {}
      },
      "source": [
        "COUNTRIES = ['Afghanistan',\n",
        " 'Åland Islands',\n",
        " 'Albania',\n",
        " 'Algeria',\n",
        " 'American Samoa',\n",
        " 'Andorra',\n",
        " 'Angola',\n",
        " 'Anguilla',\n",
        " 'Antarctica',\n",
        " 'Antigua and Barbuda',\n",
        " 'Argentina',\n",
        " 'Armenia',\n",
        " 'Aruba',\n",
        " 'Australia',\n",
        " 'Austria',\n",
        " 'Azerbaijan',\n",
        " 'Bahamas',\n",
        " 'Bahrain',\n",
        " 'Bangladesh',\n",
        " 'Barbados',\n",
        " 'Belarus',\n",
        " 'Belgium',\n",
        " 'Belize',\n",
        " 'Benin',\n",
        " 'Bermuda',\n",
        " 'Bhutan',\n",
        " 'Bolivia (Plurinational State of)',\n",
        " 'Bonaire, Sint Eustatius and Saba',\n",
        " 'Bosnia and Herzegovina',\n",
        " 'Botswana',\n",
        " 'Bouvet Island',\n",
        " 'Brazil',\n",
        " 'British Indian Ocean Territory',\n",
        " 'United States Minor Outlying Islands',\n",
        " 'Virgin Islands (British)',\n",
        " 'Virgin Islands (U.S.)',\n",
        " 'Brunei',\n",
        " 'Bulgaria',\n",
        " 'Burkina Faso',\n",
        " 'Burundi',\n",
        " 'Cambodia',\n",
        " 'Cameroon',\n",
        " 'Canada',\n",
        " 'Cabo Verde',\n",
        " 'Cayman Islands',\n",
        " 'Central African Republic',\n",
        " 'Chad',\n",
        " 'Chile',\n",
        " 'China',\n",
        " 'Christmas Island',\n",
        " 'Cocos (Keeling) Islands',\n",
        " 'Colombia',\n",
        " 'Comoros',\n",
        " 'Congo',\n",
        " 'Congo (Democratic Republic of the)',\n",
        " 'Cook Islands',\n",
        " 'Costa Rica',\n",
        " 'Croatia',\n",
        " 'Cuba',\n",
        " 'Curaçao',\n",
        " 'Cyprus',\n",
        " 'Czech Republic',\n",
        " 'Denmark',\n",
        " 'Djibouti',\n",
        " 'Dominica',\n",
        " 'Dominican Republic',\n",
        " 'Ecuador',\n",
        " 'Egypt',\n",
        " 'El Salvador',\n",
        " 'Equatorial Guinea',\n",
        " 'Eritrea',\n",
        " 'Estonia',\n",
        " 'Ethiopia',\n",
        " 'Falkland Islands (Malvinas)',\n",
        " 'Faroe Islands',\n",
        " 'Fiji',\n",
        " 'Finland',\n",
        " 'France',\n",
        " 'French Guiana',\n",
        " 'French Polynesia',\n",
        " 'French Southern Territories',\n",
        " 'Gabon',\n",
        " 'Gambia',\n",
        " 'Georgia',\n",
        " 'Germany',\n",
        " 'Ghana',\n",
        " 'Gibraltar',\n",
        " 'Greece',\n",
        " 'Greenland',\n",
        " 'Grenada',\n",
        " 'Guadeloupe',\n",
        " 'Guam',\n",
        " 'Guatemala',\n",
        " 'Guernsey',\n",
        " 'Guinea',\n",
        " 'Guinea-Bissau',\n",
        " 'Guyana',\n",
        " 'Haiti',\n",
        " 'Heard Island and McDonald Islands',\n",
        " 'Holy See',\n",
        " 'Honduras',\n",
        " 'Hong Kong',\n",
        " 'Hungary',\n",
        " 'Iceland',\n",
        " 'India',\n",
        " 'Indonesia',\n",
        " \"Côte d'Ivoire\",\n",
        " 'Iran',\n",
        " 'Iraq',\n",
        " 'Ireland',\n",
        " 'Isle of Man',\n",
        " 'Israel',\n",
        " 'Italy',\n",
        " 'Jamaica',\n",
        " 'Japan',\n",
        " 'Jersey',\n",
        " 'Jordan',\n",
        " 'Kazakhstan',\n",
        " 'Kenya',\n",
        " 'Kiribati',\n",
        " 'Kuwait',\n",
        " 'Kyrgyzstan',\n",
        " \"Lao People's Democratic Republic\",\n",
        " 'Latvia',\n",
        " 'Lebanon',\n",
        " 'Lesotho',\n",
        " 'Liberia',\n",
        " 'Libya',\n",
        " 'Liechtenstein',\n",
        " 'Lithuania',\n",
        " 'Luxembourg',\n",
        " 'Macao',\n",
        " 'Macedonia (the former Yugoslav Republic of)',\n",
        " 'Madagascar',\n",
        " 'Malawi',\n",
        " 'Malaysia',\n",
        " 'Maldives',\n",
        " 'Mali',\n",
        " 'Malta',\n",
        " 'Marshall Islands',\n",
        " 'Martinique',\n",
        " 'Mauritania',\n",
        " 'Mauritius',\n",
        " 'Mayotte',\n",
        " 'Mexico',\n",
        " 'Micronesia (Federated States of)',\n",
        " 'Moldova (Republic of)',\n",
        " 'Monaco',\n",
        " 'Mongolia',\n",
        " 'Montenegro',\n",
        " 'Montserrat',\n",
        " 'Morocco',\n",
        " 'Mozambique',\n",
        " 'Myanmar',\n",
        " 'Namibia',\n",
        " 'Nauru',\n",
        " 'Nepal',\n",
        " 'Netherlands',\n",
        " 'New Caledonia',\n",
        " 'New Zealand',\n",
        " 'Nicaragua',\n",
        " 'Niger',\n",
        " 'Nigeria',\n",
        " 'Niue',\n",
        " 'Norfolk Island',\n",
        " \"Korea (Democratic People's Republic of)\",\n",
        " 'Northern Mariana Islands',\n",
        " 'Norway',\n",
        " 'Oman',\n",
        " 'Pakistan',\n",
        " 'Palau',\n",
        " 'Palestine, State of',\n",
        " 'Panama',\n",
        " 'Papua New Guinea',\n",
        " 'Paraguay',\n",
        " 'Peru',\n",
        " 'Philippines',\n",
        " 'Pitcairn',\n",
        " 'Poland',\n",
        " 'Portugal',\n",
        " 'Puerto Rico',\n",
        " 'Qatar',\n",
        " 'Republic of Kosovo',\n",
        " 'Réunion',\n",
        " 'Romania',\n",
        " 'Russian Federation',\n",
        " 'Rwanda',\n",
        " 'Saint Barthélemy',\n",
        " 'Saint Helena, Ascension and Tristan da Cunha',\n",
        " 'Saint Kitts and Nevis',\n",
        " 'Saint Lucia',\n",
        " 'Saint Martin (French part)',\n",
        " 'Saint Pierre and Miquelon',\n",
        " 'Saint Vincent and the Grenadines',\n",
        " 'Samoa',\n",
        " 'San Marino',\n",
        " 'Sao Tome and Principe',\n",
        " 'Saudi Arabia',\n",
        " 'Senegal',\n",
        " 'Serbia',\n",
        " 'Seychelles',\n",
        " 'Sierra Leone',\n",
        " 'Singapore',\n",
        " 'Sint Maarten (Dutch part)',\n",
        " 'Slovakia',\n",
        " 'Slovenia',\n",
        " 'Solomon Islands',\n",
        " 'Somalia',\n",
        " 'South Africa',\n",
        " 'South Georgia and the South Sandwich Islands',\n",
        " 'Korea (Republic of)',\n",
        " 'South Sudan',\n",
        " 'Spain',\n",
        " 'Sri Lanka',\n",
        " 'Sudan',\n",
        " 'Suriname',\n",
        " 'Svalbard and Jan Mayen',\n",
        " 'Swaziland',\n",
        " 'Sweden',\n",
        " 'Switzerland',\n",
        " 'Syrian Arab Republic',\n",
        " 'Taiwan',\n",
        " 'Tajikistan',\n",
        " 'Tanzania, United Republic of',\n",
        " 'Thailand',\n",
        " 'Timor-Leste',\n",
        " 'Togo',\n",
        " 'Tokelau',\n",
        " 'Tonga',\n",
        " 'Trinidad and Tobago',\n",
        " 'Tunisia',\n",
        " 'Turkey',\n",
        " 'Turkmenistan',\n",
        " 'Turks and Caicos Islands',\n",
        " 'Tuvalu',\n",
        " 'Uganda',\n",
        " 'Ukraine',\n",
        " 'United Arab Emirates',\n",
        " 'United Kingdom of Great Britain and Northern Ireland',\n",
        " 'United States of America',\n",
        " 'Uruguay',\n",
        " 'Uzbekistan',\n",
        " 'Vanuatu',\n",
        " 'Venezuela (Bolivarian Republic of)',\n",
        " 'Vietnam',\n",
        " 'Wallis and Futuna',\n",
        " 'Western Sahara',\n",
        " 'Yemen',\n",
        " 'Zambia',\n",
        " 'Zimbabwe']"
      ],
      "execution_count": 14,
      "outputs": []
    },
    {
      "cell_type": "code",
      "metadata": {
        "id": "a6BmWENrILme",
        "colab_type": "code",
        "colab": {}
      },
      "source": [
        "capitals = {'Afghanistan': 'Kabul',\n",
        " 'Albania': 'Tirana',\n",
        " 'Algeria': 'Algiers',\n",
        " 'American Samoa': 'Pago Pago',\n",
        " 'Andorra': 'Andorra la Vella',\n",
        " 'Angola': 'Luanda',\n",
        " 'Anguilla': 'The Valley',\n",
        " 'Antarctica': '',\n",
        " 'Antigua and Barbuda': \"Saint John's\",\n",
        " 'Argentina': 'Buenos Aires',\n",
        " 'Armenia': 'Yerevan',\n",
        " 'Aruba': 'Oranjestad',\n",
        " 'Australia': 'Canberra',\n",
        " 'Austria': 'Vienna',\n",
        " 'Azerbaijan': 'Baku',\n",
        " 'Bahamas': 'Nassau',\n",
        " 'Bahrain': 'Manama',\n",
        " 'Bangladesh': 'Dhaka',\n",
        " 'Barbados': 'Bridgetown',\n",
        " 'Belarus': 'Minsk',\n",
        " 'Belgium': 'Brussels',\n",
        " 'Belize': 'Belmopan',\n",
        " 'Benin': 'Porto-Novo',\n",
        " 'Bermuda': 'Hamilton',\n",
        " 'Bhutan': 'Thimphu',\n",
        " 'Bolivia (Plurinational State of)': 'Sucre',\n",
        " 'Bonaire, Sint Eustatius and Saba': 'Kralendijk',\n",
        " 'Bosnia and Herzegovina': 'Sarajevo',\n",
        " 'Botswana': 'Gaborone',\n",
        " 'Bouvet Island': '',\n",
        " 'Brazil': 'Brasília',\n",
        " 'British Indian Ocean Territory': 'Diego Garcia',\n",
        " 'Brunei': 'Bandar Seri Begawan',\n",
        " 'Bulgaria': 'Sofia',\n",
        " 'Burkina Faso': 'Ouagadougou',\n",
        " 'Burundi': 'Bujumbura',\n",
        " 'Cabo Verde': 'Praia',\n",
        " 'Cambodia': 'Phnom Penh',\n",
        " 'Cameroon': 'Yaoundé',\n",
        " 'Canada': 'Ottawa',\n",
        " 'Cayman Islands': 'George Town',\n",
        " 'Central African Republic': 'Bangui',\n",
        " 'Chad': \"N'Djamena\",\n",
        " 'Chile': 'Santiago',\n",
        " 'China': 'Beijing',\n",
        " 'Christmas Island': 'Flying Fish Cove',\n",
        " 'Cocos (Keeling) Islands': 'West Island',\n",
        " 'Colombia': 'Bogotá',\n",
        " 'Comoros': 'Moroni',\n",
        " 'Congo': 'Brazzaville',\n",
        " 'Congo (Democratic Republic of the)': 'Kinshasa',\n",
        " 'Cook Islands': 'Avarua',\n",
        " 'Costa Rica': 'San José',\n",
        " 'Croatia': 'Zagreb',\n",
        " 'Cuba': 'Havana',\n",
        " 'Curaçao': 'Willemstad',\n",
        " 'Cyprus': 'Nicosia',\n",
        " 'Czech Republic': 'Prague',\n",
        " \"Côte d'Ivoire\": 'Yamoussoukro',\n",
        " 'Denmark': 'Copenhagen',\n",
        " 'Djibouti': 'Djibouti',\n",
        " 'Dominica': 'Roseau',\n",
        " 'Dominican Republic': 'Santo Domingo',\n",
        " 'Ecuador': 'Quito',\n",
        " 'Egypt': 'Cairo',\n",
        " 'El Salvador': 'San Salvador',\n",
        " 'Equatorial Guinea': 'Malabo',\n",
        " 'Eritrea': 'Asmara',\n",
        " 'Estonia': 'Tallinn',\n",
        " 'Ethiopia': 'Addis Ababa',\n",
        " 'Falkland Islands (Malvinas)': 'Stanley',\n",
        " 'Faroe Islands': 'Tórshavn',\n",
        " 'Fiji': 'Suva',\n",
        " 'Finland': 'Helsinki',\n",
        " 'France': 'Paris',\n",
        " 'French Guiana': 'Cayenne',\n",
        " 'French Polynesia': 'Papeetē',\n",
        " 'French Southern Territories': 'Port-aux-Français',\n",
        " 'Gabon': 'Libreville',\n",
        " 'Gambia': 'Banjul',\n",
        " 'Georgia': 'Tbilisi',\n",
        " 'Germany': 'Berlin',\n",
        " 'Ghana': 'Accra',\n",
        " 'Gibraltar': 'Gibraltar',\n",
        " 'Greece': 'Athens',\n",
        " 'Greenland': 'Nuuk',\n",
        " 'Grenada': \"St. George's\",\n",
        " 'Guadeloupe': 'Basse-Terre',\n",
        " 'Guam': 'Hagåtña',\n",
        " 'Guatemala': 'Guatemala City',\n",
        " 'Guernsey': 'St. Peter Port',\n",
        " 'Guinea': 'Conakry',\n",
        " 'Guinea-Bissau': 'Bissau',\n",
        " 'Guyana': 'Georgetown',\n",
        " 'Haiti': 'Port-au-Prince',\n",
        " 'Heard Island and McDonald Islands': '',\n",
        " 'Holy See': 'Rome',\n",
        " 'Honduras': 'Tegucigalpa',\n",
        " 'Hong Kong': 'City of Victoria',\n",
        " 'Hungary': 'Budapest',\n",
        " 'Iceland': 'Reykjavík',\n",
        " 'India': 'New Delhi',\n",
        " 'Indonesia': 'Jakarta',\n",
        " 'Iran': 'Tehran',\n",
        " 'Iraq': 'Baghdad',\n",
        " 'Ireland': 'Dublin',\n",
        " 'Isle of Man': 'Douglas',\n",
        " 'Israel': 'Jerusalem',\n",
        " 'Italy': 'Rome',\n",
        " 'Jamaica': 'Kingston',\n",
        " 'Japan': 'Tokyo',\n",
        " 'Jersey': 'Saint Helier',\n",
        " 'Jordan': 'Amman',\n",
        " 'Kazakhstan': 'Astana',\n",
        " 'Kenya': 'Nairobi',\n",
        " 'Kiribati': 'South Tarawa',\n",
        " \"Korea (Democratic People's Republic of)\": 'Pyongyang',\n",
        " 'Korea (Republic of)': 'Seoul',\n",
        " 'Kuwait': 'Kuwait City',\n",
        " 'Kyrgyzstan': 'Bishkek',\n",
        " \"Lao People's Democratic Republic\": 'Vientiane',\n",
        " 'Latvia': 'Riga',\n",
        " 'Lebanon': 'Beirut',\n",
        " 'Lesotho': 'Maseru',\n",
        " 'Liberia': 'Monrovia',\n",
        " 'Libya': 'Tripoli',\n",
        " 'Liechtenstein': 'Vaduz',\n",
        " 'Lithuania': 'Vilnius',\n",
        " 'Luxembourg': 'Luxembourg',\n",
        " 'Macao': '',\n",
        " 'Macedonia (the former Yugoslav Republic of)': 'Skopje',\n",
        " 'Madagascar': 'Antananarivo',\n",
        " 'Malawi': 'Lilongwe',\n",
        " 'Malaysia': 'Kuala Lumpur',\n",
        " 'Maldives': 'Malé',\n",
        " 'Mali': 'Bamako',\n",
        " 'Malta': 'Valletta',\n",
        " 'Marshall Islands': 'Majuro',\n",
        " 'Martinique': 'Fort-de-France',\n",
        " 'Mauritania': 'Nouakchott',\n",
        " 'Mauritius': 'Port Louis',\n",
        " 'Mayotte': 'Mamoudzou',\n",
        " 'Mexico': 'Mexico City',\n",
        " 'Micronesia (Federated States of)': 'Palikir',\n",
        " 'Moldova (Republic of)': 'Chișinău',\n",
        " 'Monaco': 'Monaco',\n",
        " 'Mongolia': 'Ulan Bator',\n",
        " 'Montenegro': 'Podgorica',\n",
        " 'Montserrat': 'Plymouth',\n",
        " 'Morocco': 'Rabat',\n",
        " 'Mozambique': 'Maputo',\n",
        " 'Myanmar': 'Naypyidaw',\n",
        " 'Namibia': 'Windhoek',\n",
        " 'Nauru': 'Yaren',\n",
        " 'Nepal': 'Kathmandu',\n",
        " 'Netherlands': 'Amsterdam',\n",
        " 'New Caledonia': 'Nouméa',\n",
        " 'New Zealand': 'Wellington',\n",
        " 'Nicaragua': 'Managua',\n",
        " 'Niger': 'Niamey',\n",
        " 'Nigeria': 'Abuja',\n",
        " 'Niue': 'Alofi',\n",
        " 'Norfolk Island': 'Kingston',\n",
        " 'Northern Mariana Islands': 'Saipan',\n",
        " 'Norway': 'Oslo',\n",
        " 'Oman': 'Muscat',\n",
        " 'Pakistan': 'Islamabad',\n",
        " 'Palau': 'Ngerulmud',\n",
        " 'Palestine, State of': 'Ramallah',\n",
        " 'Panama': 'Panama City',\n",
        " 'Papua New Guinea': 'Port Moresby',\n",
        " 'Paraguay': 'Asunción',\n",
        " 'Peru': 'Lima',\n",
        " 'Philippines': 'Manila',\n",
        " 'Pitcairn': 'Adamstown',\n",
        " 'Poland': 'Warsaw',\n",
        " 'Portugal': 'Lisbon',\n",
        " 'Puerto Rico': 'San Juan',\n",
        " 'Qatar': 'Doha',\n",
        " 'Republic of Kosovo': 'Pristina',\n",
        " 'Romania': 'Bucharest',\n",
        " 'Russian Federation': 'Moscow',\n",
        " 'Rwanda': 'Kigali',\n",
        " 'Réunion': 'Saint-Denis',\n",
        " 'Saint Barthélemy': 'Gustavia',\n",
        " 'Saint Helena, Ascension and Tristan da Cunha': 'Jamestown',\n",
        " 'Saint Kitts and Nevis': 'Basseterre',\n",
        " 'Saint Lucia': 'Castries',\n",
        " 'Saint Martin (French part)': 'Marigot',\n",
        " 'Saint Pierre and Miquelon': 'Saint-Pierre',\n",
        " 'Saint Vincent and the Grenadines': 'Kingstown',\n",
        " 'Samoa': 'Apia',\n",
        " 'San Marino': 'City of San Marino',\n",
        " 'Sao Tome and Principe': 'São Tomé',\n",
        " 'Saudi Arabia': 'Riyadh',\n",
        " 'Senegal': 'Dakar',\n",
        " 'Serbia': 'Belgrade',\n",
        " 'Seychelles': 'Victoria',\n",
        " 'Sierra Leone': 'Freetown',\n",
        " 'Singapore': 'Singapore',\n",
        " 'Sint Maarten (Dutch part)': 'Philipsburg',\n",
        " 'Slovakia': 'Bratislava',\n",
        " 'Slovenia': 'Ljubljana',\n",
        " 'Solomon Islands': 'Honiara',\n",
        " 'Somalia': 'Mogadishu',\n",
        " 'South Africa': 'Pretoria',\n",
        " 'South Georgia and the South Sandwich Islands': 'King Edward Point',\n",
        " 'South Sudan': 'Juba',\n",
        " 'Spain': 'Madrid',\n",
        " 'Sri Lanka': 'Colombo',\n",
        " 'Sudan': 'Khartoum',\n",
        " 'Suriname': 'Paramaribo',\n",
        " 'Svalbard and Jan Mayen': 'Longyearbyen',\n",
        " 'Swaziland': 'Lobamba',\n",
        " 'Sweden': 'Stockholm',\n",
        " 'Switzerland': 'Bern',\n",
        " 'Syrian Arab Republic': 'Damascus',\n",
        " 'Taiwan': 'Taipei',\n",
        " 'Tajikistan': 'Dushanbe',\n",
        " 'Tanzania, United Republic of': 'Dodoma',\n",
        " 'Thailand': 'Bangkok',\n",
        " 'Timor-Leste': 'Dili',\n",
        " 'Togo': 'Lomé',\n",
        " 'Tokelau': 'Fakaofo',\n",
        " 'Tonga': \"Nuku'alofa\",\n",
        " 'Trinidad and Tobago': 'Port of Spain',\n",
        " 'Tunisia': 'Tunis',\n",
        " 'Turkey': 'Ankara',\n",
        " 'Turkmenistan': 'Ashgabat',\n",
        " 'Turks and Caicos Islands': 'Cockburn Town',\n",
        " 'Tuvalu': 'Funafuti',\n",
        " 'Uganda': 'Kampala',\n",
        " 'Ukraine': 'Kiev',\n",
        " 'United Arab Emirates': 'Abu Dhabi',\n",
        " 'United Kingdom of Great Britain and Northern Ireland': 'London',\n",
        " 'United States Minor Outlying Islands': '',\n",
        " 'United States of America': 'Washington, D.C.',\n",
        " 'Uruguay': 'Montevideo',\n",
        " 'Uzbekistan': 'Tashkent',\n",
        " 'Vanuatu': 'Port Vila',\n",
        " 'Venezuela (Bolivarian Republic of)': 'Caracas',\n",
        " 'Vietnam': 'Hanoi',\n",
        " 'Virgin Islands (British)': 'Road Town',\n",
        " 'Virgin Islands (U.S.)': 'Charlotte Amalie',\n",
        " 'Wallis and Futuna': 'Mata-Utu',\n",
        " 'Western Sahara': 'El Aaiún',\n",
        " 'Yemen': \"Sana'a\",\n",
        " 'Zambia': 'Lusaka',\n",
        " 'Zimbabwe': 'Harare',\n",
        " 'Åland Islands': 'Mariehamn'}"
      ],
      "execution_count": 15,
      "outputs": []
    },
    {
      "cell_type": "code",
      "metadata": {
        "id": "QNMjyd-zIVAS",
        "colab_type": "code",
        "colab": {}
      },
      "source": [
        "from spacy.matcher import Matcher\n",
        "matcher = Matcher(nlp.vocab)"
      ],
      "execution_count": 16,
      "outputs": []
    },
    {
      "cell_type": "code",
      "metadata": {
        "id": "HgDKtiLDJDri",
        "colab_type": "code",
        "colab": {
          "base_uri": "https://localhost:8080/",
          "height": 1000
        },
        "outputId": "eaa7fd72-98c3-44db-9b90-4e3c6607c506"
      },
      "source": [
        "# Import the PhraseMatcher and initialize it\n",
        "from spacy.matcher import PhraseMatcher\n",
        "matcher = PhraseMatcher(nlp.vocab)\n",
        "\n",
        "# Create pattern Doc objects and add them to the matcher\n",
        "# This is the faster version of: [nlp(country) for country in COUNTRIES]\n",
        "patterns = list(nlp.pipe(COUNTRIES))\n",
        "matcher.add('COUNTRY', None, *patterns)\n",
        "\n",
        "# Call the matcher on the test document and print the result\n",
        "matches = matcher(doc)\n",
        "print([doc[start:end] for match_id, start, end in matches])"
      ],
      "execution_count": 17,
      "outputs": [
        {
          "output_type": "stream",
          "text": [
            "This document is 1 tokens long.\n",
            "This document is 2 tokens long.\n",
            "This document is 1 tokens long.\n",
            "This document is 1 tokens long.\n",
            "This document is 2 tokens long.\n",
            "This document is 1 tokens long.\n",
            "This document is 1 tokens long.\n",
            "This document is 1 tokens long.\n",
            "This document is 1 tokens long.\n",
            "This document is 3 tokens long.\n",
            "This document is 1 tokens long.\n",
            "This document is 1 tokens long.\n",
            "This document is 1 tokens long.\n",
            "This document is 1 tokens long.\n",
            "This document is 1 tokens long.\n",
            "This document is 1 tokens long.\n",
            "This document is 1 tokens long.\n",
            "This document is 1 tokens long.\n",
            "This document is 1 tokens long.\n",
            "This document is 1 tokens long.\n",
            "This document is 1 tokens long.\n",
            "This document is 1 tokens long.\n",
            "This document is 1 tokens long.\n",
            "This document is 1 tokens long.\n",
            "This document is 1 tokens long.\n",
            "This document is 1 tokens long.\n",
            "This document is 6 tokens long.\n",
            "This document is 6 tokens long.\n",
            "This document is 3 tokens long.\n",
            "This document is 1 tokens long.\n",
            "This document is 2 tokens long.\n",
            "This document is 1 tokens long.\n",
            "This document is 4 tokens long.\n",
            "This document is 5 tokens long.\n",
            "This document is 5 tokens long.\n",
            "This document is 5 tokens long.\n",
            "This document is 1 tokens long.\n",
            "This document is 1 tokens long.\n",
            "This document is 2 tokens long.\n",
            "This document is 1 tokens long.\n",
            "This document is 1 tokens long.\n",
            "This document is 1 tokens long.\n",
            "This document is 1 tokens long.\n",
            "This document is 2 tokens long.\n",
            "This document is 2 tokens long.\n",
            "This document is 3 tokens long.\n",
            "This document is 1 tokens long.\n",
            "This document is 1 tokens long.\n",
            "This document is 1 tokens long.\n",
            "This document is 2 tokens long.\n",
            "This document is 5 tokens long.\n",
            "This document is 1 tokens long.\n",
            "This document is 1 tokens long.\n",
            "This document is 1 tokens long.\n",
            "This document is 7 tokens long.\n",
            "This document is 2 tokens long.\n",
            "This document is 2 tokens long.\n",
            "This document is 1 tokens long.\n",
            "This document is 1 tokens long.\n",
            "This document is 1 tokens long.\n",
            "This document is 1 tokens long.\n",
            "This document is 2 tokens long.\n",
            "This document is 1 tokens long.\n",
            "This document is 1 tokens long.\n",
            "This document is 1 tokens long.\n",
            "This document is 2 tokens long.\n",
            "This document is 1 tokens long.\n",
            "This document is 1 tokens long.\n",
            "This document is 2 tokens long.\n",
            "This document is 2 tokens long.\n",
            "This document is 1 tokens long.\n",
            "This document is 1 tokens long.\n",
            "This document is 1 tokens long.\n",
            "This document is 5 tokens long.\n",
            "This document is 2 tokens long.\n",
            "This document is 1 tokens long.\n",
            "This document is 1 tokens long.\n",
            "This document is 1 tokens long.\n",
            "This document is 2 tokens long.\n",
            "This document is 2 tokens long.\n",
            "This document is 3 tokens long.\n",
            "This document is 1 tokens long.\n",
            "This document is 1 tokens long.\n",
            "This document is 1 tokens long.\n",
            "This document is 1 tokens long.\n",
            "This document is 1 tokens long.\n",
            "This document is 1 tokens long.\n",
            "This document is 1 tokens long.\n",
            "This document is 1 tokens long.\n",
            "This document is 1 tokens long.\n",
            "This document is 1 tokens long.\n",
            "This document is 1 tokens long.\n",
            "This document is 1 tokens long.\n",
            "This document is 1 tokens long.\n",
            "This document is 1 tokens long.\n",
            "This document is 3 tokens long.\n",
            "This document is 1 tokens long.\n",
            "This document is 1 tokens long.\n",
            "This document is 5 tokens long.\n",
            "This document is 2 tokens long.\n",
            "This document is 1 tokens long.\n",
            "This document is 2 tokens long.\n",
            "This document is 1 tokens long.\n",
            "This document is 1 tokens long.\n",
            "This document is 1 tokens long.\n",
            "This document is 1 tokens long.\n",
            "This document is 2 tokens long.\n",
            "This document is 1 tokens long.\n",
            "This document is 1 tokens long.\n",
            "This document is 1 tokens long.\n",
            "This document is 3 tokens long.\n",
            "This document is 1 tokens long.\n",
            "This document is 1 tokens long.\n",
            "This document is 1 tokens long.\n",
            "This document is 1 tokens long.\n",
            "This document is 1 tokens long.\n",
            "This document is 1 tokens long.\n",
            "This document is 1 tokens long.\n",
            "This document is 1 tokens long.\n",
            "This document is 1 tokens long.\n",
            "This document is 1 tokens long.\n",
            "This document is 1 tokens long.\n",
            "This document is 5 tokens long.\n",
            "This document is 1 tokens long.\n",
            "This document is 1 tokens long.\n",
            "This document is 1 tokens long.\n",
            "This document is 1 tokens long.\n",
            "This document is 1 tokens long.\n",
            "This document is 1 tokens long.\n",
            "This document is 1 tokens long.\n",
            "This document is 1 tokens long.\n",
            "This document is 1 tokens long.\n",
            "This document is 8 tokens long.\n",
            "This document is 1 tokens long.\n",
            "This document is 1 tokens long.\n",
            "This document is 1 tokens long.\n",
            "This document is 1 tokens long.\n",
            "This document is 1 tokens long.\n",
            "This document is 1 tokens long.\n",
            "This document is 2 tokens long.\n",
            "This document is 1 tokens long.\n",
            "This document is 1 tokens long.\n",
            "This document is 1 tokens long.\n",
            "This document is 1 tokens long.\n",
            "This document is 1 tokens long.\n",
            "This document is 6 tokens long.\n",
            "This document is 5 tokens long.\n",
            "This document is 1 tokens long.\n",
            "This document is 1 tokens long.\n",
            "This document is 1 tokens long.\n",
            "This document is 1 tokens long.\n",
            "This document is 1 tokens long.\n",
            "This document is 1 tokens long.\n",
            "This document is 1 tokens long.\n",
            "This document is 1 tokens long.\n",
            "This document is 1 tokens long.\n",
            "This document is 1 tokens long.\n",
            "This document is 1 tokens long.\n",
            "This document is 2 tokens long.\n",
            "This document is 2 tokens long.\n",
            "This document is 1 tokens long.\n",
            "This document is 1 tokens long.\n",
            "This document is 1 tokens long.\n",
            "This document is 1 tokens long.\n",
            "This document is 2 tokens long.\n",
            "This document is 8 tokens long.\n",
            "This document is 3 tokens long.\n",
            "This document is 1 tokens long.\n",
            "This document is 1 tokens long.\n",
            "This document is 1 tokens long.\n",
            "This document is 1 tokens long.\n",
            "This document is 4 tokens long.\n",
            "This document is 1 tokens long.\n",
            "This document is 3 tokens long.\n",
            "This document is 1 tokens long.\n",
            "This document is 1 tokens long.\n",
            "This document is 1 tokens long.\n",
            "This document is 1 tokens long.\n",
            "This document is 1 tokens long.\n",
            "This document is 1 tokens long.\n",
            "This document is 2 tokens long.\n",
            "This document is 1 tokens long.\n",
            "This document is 3 tokens long.\n",
            "This document is 1 tokens long.\n",
            "This document is 1 tokens long.\n",
            "This document is 2 tokens long.\n",
            "This document is 1 tokens long.\n",
            "This document is 2 tokens long.\n",
            "This document is 8 tokens long.\n",
            "This document is 4 tokens long.\n",
            "This document is 2 tokens long.\n",
            "This document is 6 tokens long.\n",
            "This document is 4 tokens long.\n",
            "This document is 5 tokens long.\n",
            "This document is 1 tokens long.\n",
            "This document is 2 tokens long.\n",
            "This document is 4 tokens long.\n",
            "This document is 2 tokens long.\n",
            "This document is 1 tokens long.\n",
            "This document is 1 tokens long.\n",
            "This document is 1 tokens long.\n",
            "This document is 2 tokens long.\n",
            "This document is 1 tokens long.\n",
            "This document is 6 tokens long.\n",
            "This document is 1 tokens long.\n",
            "This document is 1 tokens long.\n",
            "This document is 2 tokens long.\n",
            "This document is 1 tokens long.\n",
            "This document is 2 tokens long.\n",
            "This document is 7 tokens long.\n",
            "This document is 5 tokens long.\n",
            "This document is 2 tokens long.\n",
            "This document is 1 tokens long.\n",
            "This document is 2 tokens long.\n",
            "This document is 1 tokens long.\n",
            "This document is 1 tokens long.\n",
            "This document is 4 tokens long.\n",
            "This document is 1 tokens long.\n",
            "This document is 1 tokens long.\n",
            "This document is 1 tokens long.\n",
            "This document is 3 tokens long.\n",
            "This document is 1 tokens long.\n",
            "This document is 1 tokens long.\n",
            "This document is 5 tokens long.\n",
            "This document is 1 tokens long.\n",
            "This document is 3 tokens long.\n",
            "This document is 1 tokens long.\n",
            "This document is 1 tokens long.\n",
            "This document is 1 tokens long.\n",
            "This document is 3 tokens long.\n",
            "This document is 1 tokens long.\n",
            "This document is 1 tokens long.\n",
            "This document is 1 tokens long.\n",
            "This document is 4 tokens long.\n",
            "This document is 1 tokens long.\n",
            "This document is 1 tokens long.\n",
            "This document is 1 tokens long.\n",
            "This document is 3 tokens long.\n",
            "This document is 8 tokens long.\n",
            "This document is 4 tokens long.\n",
            "This document is 1 tokens long.\n",
            "This document is 1 tokens long.\n",
            "This document is 1 tokens long.\n",
            "This document is 6 tokens long.\n",
            "This document is 1 tokens long.\n",
            "This document is 3 tokens long.\n",
            "This document is 2 tokens long.\n",
            "This document is 1 tokens long.\n",
            "This document is 1 tokens long.\n",
            "This document is 1 tokens long.\n",
            "[India]\n"
          ],
          "name": "stdout"
        }
      ]
    },
    {
      "cell_type": "code",
      "metadata": {
        "id": "dCyQxKdrHPqb",
        "colab_type": "code",
        "colab": {
          "base_uri": "https://localhost:8080/",
          "height": 72
        },
        "outputId": "1fd25dba-777a-4d33-9f2c-1d9cc89d2ed1"
      },
      "source": [
        "# Process the text and print the entity text, label and capital attributes\n",
        "doc = nlp(\"In the late 1990s and early 2000s, the economies of China and India have been growing rapidly, both with an average annual growth rate of more than 8%. Other recent very-high-growth nations in Asia include Israel, Malaysia, Indonesia, Bangladesh, Thailand, Vietnam, and the Philippines, and mineral-rich nations such as Kazakhstan, Turkmenistan, Iran, Brunei, the United Arab Emirates, Qatar, Kuwait, Saudi Arabia, Bahrain and Oman.\")\n",
        "print([(ent.text, ent.label_, ent._.capital) for ent in doc.ents])"
      ],
      "execution_count": 18,
      "outputs": [
        {
          "output_type": "stream",
          "text": [
            "This document is 90 tokens long.\n",
            "[('China', 'GPE', 'Beijing'), ('India', 'GPE', 'New Delhi'), ('Israel', 'GPE', 'Jerusalem'), ('Malaysia', 'GPE', 'Kuala Lumpur'), ('Indonesia', 'GPE', 'Jakarta'), ('Bangladesh', 'GPE', 'Dhaka'), ('Thailand', 'GPE', 'Bangkok'), ('Vietnam', 'GPE', 'Hanoi'), ('Philippines', 'GPE', 'Manila'), ('Kazakhstan', 'GPE', 'Astana'), ('Turkmenistan', 'GPE', 'Ashgabat'), ('Iran', 'GPE', 'Tehran'), ('Brunei', 'GPE', 'Bandar Seri Begawan'), ('United Arab Emirates', 'GPE', 'Abu Dhabi'), ('Qatar', 'GPE', 'Doha'), ('Kuwait', 'GPE', 'Kuwait City'), ('Saudi Arabia', 'GPE', 'Riyadh'), ('Bahrain', 'GPE', 'Manama'), ('Oman', 'GPE', 'Muscat')]\n"
          ],
          "name": "stdout"
        }
      ]
    }
  ]
}