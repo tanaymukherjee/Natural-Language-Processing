{
  "nbformat": 4,
  "nbformat_minor": 0,
  "metadata": {
    "colab": {
      "name": "10. Training A Neural Network Model - I.ipynb",
      "provenance": [],
      "collapsed_sections": [],
      "authorship_tag": "ABX9TyMaYt2aIPfpChj3LOGmhd+a",
      "include_colab_link": true
    },
    "kernelspec": {
      "name": "python3",
      "display_name": "Python 3"
    }
  },
  "cells": [
    {
      "cell_type": "markdown",
      "metadata": {
        "id": "view-in-github",
        "colab_type": "text"
      },
      "source": [
        "<a href=\"https://colab.research.google.com/github/tanaymukherjee/Natural-Language-Processing/blob/master/10_Training_A_Neural_Network_Model_I.ipynb\" target=\"_parent\"><img src=\"https://colab.research.google.com/assets/colab-badge.svg\" alt=\"Open In Colab\"/></a>"
      ]
    },
    {
      "cell_type": "markdown",
      "metadata": {
        "id": "4ZNxNPYx7o1B",
        "colab_type": "text"
      },
      "source": [
        "# Training A Neural Network Model - I"
      ]
    },
    {
      "cell_type": "markdown",
      "metadata": {
        "id": "TxYLmevv9yNQ",
        "colab_type": "text"
      },
      "source": [
        "## Training and updating models"
      ]
    },
    {
      "cell_type": "markdown",
      "metadata": {
        "id": "J3OqbKkT7seu",
        "colab_type": "text"
      },
      "source": [
        "### Creating training data - I"
      ]
    },
    {
      "cell_type": "code",
      "metadata": {
        "id": "qHumPkUF76TW",
        "colab_type": "code",
        "colab": {}
      },
      "source": [
        "import spacy"
      ],
      "execution_count": 11,
      "outputs": []
    },
    {
      "cell_type": "code",
      "metadata": {
        "id": "0OeY5-_V77Fx",
        "colab_type": "code",
        "colab": {}
      },
      "source": [
        "# Create an NLP object\n",
        "from spacy.lang.en import English\n",
        "nlp = English()"
      ],
      "execution_count": 12,
      "outputs": []
    },
    {
      "cell_type": "code",
      "metadata": {
        "id": "AHA19E5B794K",
        "colab_type": "code",
        "colab": {}
      },
      "source": [
        "# Import the Doc class\n",
        "from spacy.tokens import Doc, Span, Token"
      ],
      "execution_count": 13,
      "outputs": []
    },
    {
      "cell_type": "code",
      "metadata": {
        "id": "7KWgOZti781D",
        "colab_type": "code",
        "colab": {
          "base_uri": "https://localhost:8080/",
          "height": 442
        },
        "outputId": "f6737220-2b84-4d52-aa73-47970d3334af"
      },
      "source": [
        "!python -m spacy download en_core_web_sm"
      ],
      "execution_count": 14,
      "outputs": [
        {
          "output_type": "stream",
          "text": [
            "Requirement already satisfied: en_core_web_sm==2.2.5 from https://github.com/explosion/spacy-models/releases/download/en_core_web_sm-2.2.5/en_core_web_sm-2.2.5.tar.gz#egg=en_core_web_sm==2.2.5 in /usr/local/lib/python3.6/dist-packages (2.2.5)\n",
            "Requirement already satisfied: spacy>=2.2.2 in /usr/local/lib/python3.6/dist-packages (from en_core_web_sm==2.2.5) (2.2.4)\n",
            "Requirement already satisfied: numpy>=1.15.0 in /usr/local/lib/python3.6/dist-packages (from spacy>=2.2.2->en_core_web_sm==2.2.5) (1.18.5)\n",
            "Requirement already satisfied: wasabi<1.1.0,>=0.4.0 in /usr/local/lib/python3.6/dist-packages (from spacy>=2.2.2->en_core_web_sm==2.2.5) (0.7.0)\n",
            "Requirement already satisfied: blis<0.5.0,>=0.4.0 in /usr/local/lib/python3.6/dist-packages (from spacy>=2.2.2->en_core_web_sm==2.2.5) (0.4.1)\n",
            "Requirement already satisfied: setuptools in /usr/local/lib/python3.6/dist-packages (from spacy>=2.2.2->en_core_web_sm==2.2.5) (49.1.0)\n",
            "Requirement already satisfied: preshed<3.1.0,>=3.0.2 in /usr/local/lib/python3.6/dist-packages (from spacy>=2.2.2->en_core_web_sm==2.2.5) (3.0.2)\n",
            "Requirement already satisfied: tqdm<5.0.0,>=4.38.0 in /usr/local/lib/python3.6/dist-packages (from spacy>=2.2.2->en_core_web_sm==2.2.5) (4.41.1)\n",
            "Requirement already satisfied: murmurhash<1.1.0,>=0.28.0 in /usr/local/lib/python3.6/dist-packages (from spacy>=2.2.2->en_core_web_sm==2.2.5) (1.0.2)\n",
            "Requirement already satisfied: catalogue<1.1.0,>=0.0.7 in /usr/local/lib/python3.6/dist-packages (from spacy>=2.2.2->en_core_web_sm==2.2.5) (1.0.0)\n",
            "Requirement already satisfied: srsly<1.1.0,>=1.0.2 in /usr/local/lib/python3.6/dist-packages (from spacy>=2.2.2->en_core_web_sm==2.2.5) (1.0.2)\n",
            "Requirement already satisfied: plac<1.2.0,>=0.9.6 in /usr/local/lib/python3.6/dist-packages (from spacy>=2.2.2->en_core_web_sm==2.2.5) (1.1.3)\n",
            "Requirement already satisfied: thinc==7.4.0 in /usr/local/lib/python3.6/dist-packages (from spacy>=2.2.2->en_core_web_sm==2.2.5) (7.4.0)\n",
            "Requirement already satisfied: cymem<2.1.0,>=2.0.2 in /usr/local/lib/python3.6/dist-packages (from spacy>=2.2.2->en_core_web_sm==2.2.5) (2.0.3)\n",
            "Requirement already satisfied: requests<3.0.0,>=2.13.0 in /usr/local/lib/python3.6/dist-packages (from spacy>=2.2.2->en_core_web_sm==2.2.5) (2.23.0)\n",
            "Requirement already satisfied: importlib-metadata>=0.20; python_version < \"3.8\" in /usr/local/lib/python3.6/dist-packages (from catalogue<1.1.0,>=0.0.7->spacy>=2.2.2->en_core_web_sm==2.2.5) (1.7.0)\n",
            "Requirement already satisfied: urllib3!=1.25.0,!=1.25.1,<1.26,>=1.21.1 in /usr/local/lib/python3.6/dist-packages (from requests<3.0.0,>=2.13.0->spacy>=2.2.2->en_core_web_sm==2.2.5) (1.24.3)\n",
            "Requirement already satisfied: idna<3,>=2.5 in /usr/local/lib/python3.6/dist-packages (from requests<3.0.0,>=2.13.0->spacy>=2.2.2->en_core_web_sm==2.2.5) (2.10)\n",
            "Requirement already satisfied: chardet<4,>=3.0.2 in /usr/local/lib/python3.6/dist-packages (from requests<3.0.0,>=2.13.0->spacy>=2.2.2->en_core_web_sm==2.2.5) (3.0.4)\n",
            "Requirement already satisfied: certifi>=2017.4.17 in /usr/local/lib/python3.6/dist-packages (from requests<3.0.0,>=2.13.0->spacy>=2.2.2->en_core_web_sm==2.2.5) (2020.6.20)\n",
            "Requirement already satisfied: zipp>=0.5 in /usr/local/lib/python3.6/dist-packages (from importlib-metadata>=0.20; python_version < \"3.8\"->catalogue<1.1.0,>=0.0.7->spacy>=2.2.2->en_core_web_sm==2.2.5) (3.1.0)\n",
            "\u001b[38;5;2m✔ Download and installation successful\u001b[0m\n",
            "You can now load the model via spacy.load('en_core_web_sm')\n"
          ],
          "name": "stdout"
        }
      ]
    },
    {
      "cell_type": "markdown",
      "metadata": {
        "id": "7JFAB1ad8auq",
        "colab_type": "text"
      },
      "source": [
        "spaCy's rule-based Matcher is a great way to quickly create training data for named entity models. A list of sentences is available as the variable TEXTS."
      ]
    },
    {
      "cell_type": "markdown",
      "metadata": {
        "id": "DvDIdevF8dsp",
        "colab_type": "text"
      },
      "source": [
        "We want to find all mentions of different iPhone models, so we can create training data to teach a model to recognize them as 'GADGET'."
      ]
    },
    {
      "cell_type": "code",
      "metadata": {
        "id": "-vNFVLCP8CJy",
        "colab_type": "code",
        "colab": {}
      },
      "source": [
        "from spacy.matcher import Matcher\n",
        "matcher = Matcher(nlp.vocab)"
      ],
      "execution_count": 15,
      "outputs": []
    },
    {
      "cell_type": "code",
      "metadata": {
        "id": "OcydRjrLxxUA",
        "colab_type": "code",
        "colab": {}
      },
      "source": [
        "TEXTS = ['How to preorder the iPhone X',\n",
        " 'iPhone X is coming',\n",
        " 'Should I pay $1,000 for the iPhone X?',\n",
        " 'The iPhone 8 reviews are here',\n",
        " 'Your iPhone goes up to 11 today',\n",
        " 'I need a new phone! Any tips?']"
      ],
      "execution_count": 16,
      "outputs": []
    },
    {
      "cell_type": "markdown",
      "metadata": {
        "id": "7d0jCTdP8hYQ",
        "colab_type": "text"
      },
      "source": [
        "1. Write a pattern for two tokens whose lowercase forms match 'iphone' and 'x'.\n",
        "2. Write a pattern for two tokens: one token whose lowercase form matches 'iphone' and an optional digit using the '?' operator."
      ]
    },
    {
      "cell_type": "code",
      "metadata": {
        "id": "chWYQqb872vo",
        "colab_type": "code",
        "colab": {}
      },
      "source": [
        "# Two tokens whose lowercase forms match 'iphone' and 'x'\n",
        "pattern1 = [{'LOWER': 'iphone'}, {'LOWER': 'x'}]\n",
        "\n",
        "# Token whose lowercase form matches 'iphone' and an optional digit\n",
        "pattern2 = [{'LOWER': 'iphone'}, {'IS_DIGIT': True, 'OP': '?'}]\n",
        "\n",
        "# Add patterns to the matcher\n",
        "matcher.add('GADGET', None, pattern1, pattern2)"
      ],
      "execution_count": 17,
      "outputs": []
    },
    {
      "cell_type": "markdown",
      "metadata": {
        "id": "muFWshYC9HoK",
        "colab_type": "text"
      },
      "source": [
        "### Creating training data - II"
      ]
    },
    {
      "cell_type": "markdown",
      "metadata": {
        "id": "nUgsfIsF8pji",
        "colab_type": "text"
      },
      "source": [
        "Let's use the match patterns we've created in the above block to bootstrap a set of training examples. A list of sentences is available as the variable TEXTS."
      ]
    },
    {
      "cell_type": "code",
      "metadata": {
        "id": "Wh4pYKO884vD",
        "colab_type": "code",
        "colab": {}
      },
      "source": [
        "# Two tokens whose lowercase forms match 'iphone' and 'x'\n",
        "pattern1 = [{'LOWER': 'iphone'}, {'LOWER': 'x'}]\n",
        "\n",
        "# Token whose lowercase form matches 'iphone' and an optional digit\n",
        "pattern2 = [{'LOWER': 'iphone'}, {'IS_DIGIT': True, 'OP': '+'}]\n",
        "\n",
        "# Add patterns to the matcher\n",
        "matcher.add('GADGET', None, pattern1, pattern2)"
      ],
      "execution_count": 18,
      "outputs": []
    },
    {
      "cell_type": "markdown",
      "metadata": {
        "id": "a0If8wD69Aah",
        "colab_type": "text"
      },
      "source": [
        "1. Create a doc object for each text using nlp.pipe and find the matches in it.\n",
        "2. Create a list of (start, end, label) tuples for the matches."
      ]
    },
    {
      "cell_type": "code",
      "metadata": {
        "id": "CfLmWEES9JLF",
        "colab_type": "code",
        "colab": {
          "base_uri": "https://localhost:8080/",
          "height": 123
        },
        "outputId": "7d43d49e-56d1-4807-af0d-8f601a554498"
      },
      "source": [
        "# Create a Doc object for each text in TEXTS\n",
        "for doc in nlp.pipe(TEXTS):\n",
        "    # Find the matches in the doc\n",
        "    matches = matcher(doc)\n",
        "    \n",
        "    # Get a list of (start, end, label) tuples of matches in the text\n",
        "    entities = [(start, end, 'GADGET') for match_id, start, end in matches]\n",
        "    print(doc.text, entities)    "
      ],
      "execution_count": 19,
      "outputs": [
        {
          "output_type": "stream",
          "text": [
            "How to preorder the iPhone X [(4, 6, 'GADGET'), (4, 5, 'GADGET')]\n",
            "iPhone X is coming [(0, 2, 'GADGET'), (0, 1, 'GADGET')]\n",
            "Should I pay $1,000 for the iPhone X? [(7, 9, 'GADGET'), (7, 8, 'GADGET')]\n",
            "The iPhone 8 reviews are here [(1, 2, 'GADGET'), (1, 3, 'GADGET')]\n",
            "Your iPhone goes up to 11 today [(1, 2, 'GADGET')]\n",
            "I need a new phone! Any tips? []\n"
          ],
          "name": "stdout"
        }
      ]
    },
    {
      "cell_type": "markdown",
      "metadata": {
        "id": "3N0CGi2G9bT5",
        "colab_type": "text"
      },
      "source": [
        "1. Match on the doc and create a list of matched spans.\n",
        "2. Format each example as a tuple of the text and a dict, mapping 'entities' to the entity tuples.\n",
        "3. Append the example to TRAINING_DATA and inspect the printed data."
      ]
    },
    {
      "cell_type": "code",
      "metadata": {
        "id": "LnA8TmiM9Wim",
        "colab_type": "code",
        "colab": {
          "base_uri": "https://localhost:8080/",
          "height": 123
        },
        "outputId": "9d586d0e-eb83-4836-fd0c-42680dd365d2"
      },
      "source": [
        "TRAINING_DATA = []\n",
        "\n",
        "# Create a Doc object for each text in TEXTS\n",
        "for doc in nlp.pipe(TEXTS):\n",
        "    # Match on the doc and create a list of matched spans\n",
        "    spans = [doc[start:end] for match_id, start, end in matcher(doc)]\n",
        "    # Get (start character, end character, label) tuples of matches\n",
        "    entities = [(span.start_char, span.end_char, 'GADGET') for span in spans]\n",
        "    \n",
        "    # Format the matches as a (doc.text, entities) tuple\n",
        "    training_example = (doc.text, {'entities': entities})\n",
        "    # Append the example to the training data\n",
        "    TRAINING_DATA.append(training_example)\n",
        "    \n",
        "print(*TRAINING_DATA, sep='\\n')    "
      ],
      "execution_count": 20,
      "outputs": [
        {
          "output_type": "stream",
          "text": [
            "('How to preorder the iPhone X', {'entities': [(20, 28, 'GADGET'), (20, 26, 'GADGET')]})\n",
            "('iPhone X is coming', {'entities': [(0, 8, 'GADGET'), (0, 6, 'GADGET')]})\n",
            "('Should I pay $1,000 for the iPhone X?', {'entities': [(28, 36, 'GADGET'), (28, 34, 'GADGET')]})\n",
            "('The iPhone 8 reviews are here', {'entities': [(4, 10, 'GADGET'), (4, 12, 'GADGET')]})\n",
            "('Your iPhone goes up to 11 today', {'entities': [(5, 11, 'GADGET')]})\n",
            "('I need a new phone! Any tips?', {'entities': []})\n"
          ],
          "name": "stdout"
        }
      ]
    }
  ]
}